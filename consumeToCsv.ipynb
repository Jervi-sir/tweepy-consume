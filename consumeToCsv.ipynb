{
 "cells": [
  {
   "cell_type": "code",
   "execution_count": 1,
   "source": [
    "import tweepy\r\n",
    "import csv\r\n",
    "import pandas as pd\r\n",
    "import os\r\n",
    "import datetime\r\n",
    "import time"
   ],
   "outputs": [],
   "metadata": {}
  },
  {
   "cell_type": "code",
   "execution_count": 2,
   "source": [
    "#credentials\r\n",
    "api_key = ''\r\n",
    "api_key_secret = ''"
   ],
   "outputs": [],
   "metadata": {}
  },
  {
   "cell_type": "code",
   "execution_count": 3,
   "source": [
    "#get access to tweeter api\r\n",
    "auth = tweepy.AppAuthHandler(api_key, api_key_secret)\r\n",
    "api = tweepy.API(auth)"
   ],
   "outputs": [],
   "metadata": {}
  },
  {
   "cell_type": "code",
   "execution_count": 4,
   "source": [
    "#creation of csv if it doesnt exist\r\n",
    "fileExist = os.path.exists(\"result.csv\")    #true, if file exist\r\n",
    "if not(fileExist):\r\n",
    "    with open('result.csv', 'w', newline='') as f:\r\n",
    "        filednames = [\"keyword\", \"created_at\", \"text\", \"username\", \"geo\"]\r\n",
    "        writer = csv.DictWriter(f, fieldnames=filednames)\r\n",
    "        writer.writeheader()\r\n",
    "        f.close()"
   ],
   "outputs": [],
   "metadata": {}
  },
  {
   "cell_type": "code",
   "execution_count": 5,
   "source": [
    "#get keywords from user\r\n",
    "#input must be: word1, word2, .....\r\n",
    "print('Enter keywords as folling: word1, word2, ....')\r\n",
    "userInput = input()"
   ],
   "outputs": [
    {
     "output_type": "stream",
     "name": "stdout",
     "text": [
      "Enter keywords as folling: word1, word2, ....\n"
     ]
    },
    {
     "output_type": "stream",
     "name": "stdout",
     "text": [
      " science, warcraft, economy\n"
     ]
    }
   ],
   "metadata": {
    "tags": []
   }
  },
  {
   "cell_type": "code",
   "execution_count": 6,
   "source": [
    "userInput = userInput.replace(', ', ',').replace(' ,', ',')\r\n",
    "keywordsArray = userInput.split(',')\r\n",
    "#print(keywordsArray)"
   ],
   "outputs": [],
   "metadata": {
    "tags": []
   }
  },
  {
   "cell_type": "code",
   "execution_count": 7,
   "source": [
    "#get current date\r\n",
    "lastWeek = datetime.date.today() - datetime.timedelta(weeks=1)"
   ],
   "outputs": [],
   "metadata": {}
  },
  {
   "cell_type": "code",
   "execution_count": 8,
   "source": [
    "#open csv file\n",
    "csvFile = open('result.csv', 'a', newline='')\n",
    "csvWriter = csv.writer(csvFile)"
   ],
   "outputs": [],
   "metadata": {}
  },
  {
   "cell_type": "code",
   "execution_count": 1,
   "source": [
    "#total result found\n",
    "total = 0\n",
    "\n",
    "#chronometer starts\n",
    "start_time = time.time()\n",
    "\n",
    "#get tweet week older\n",
    "for key in keywordsArray:\n",
    "    for tweet in tweepy.Cursor(api.search, q=key, since=lastWeek).items():\n",
    "        print(tweet.created_at)\n",
    "        csvWriter.writerow([key, tweet.created_at, tweet.text.encode('utf-8'),tweet.user.screen_name.encode('utf-8'), tweet.user.location.encode('utf-8')])\n",
    "        total = total + 1\n",
    "        \n",
    "#chrono ends\n",
    "end_time = time.time()"
   ],
   "outputs": [
    {
     "output_type": "error",
     "ename": "NameError",
     "evalue": "name 'time' is not defined",
     "traceback": [
      "\u001b[1;31m---------------------------------------------------------------------------\u001b[0m",
      "\u001b[1;31mNameError\u001b[0m                                 Traceback (most recent call last)",
      "\u001b[1;32m~\\AppData\\Local\\Temp/ipykernel_14264/400295591.py\u001b[0m in \u001b[0;36m<module>\u001b[1;34m\u001b[0m\n\u001b[0;32m      3\u001b[0m \u001b[1;33m\u001b[0m\u001b[0m\n\u001b[0;32m      4\u001b[0m \u001b[1;31m#chronometer starts\u001b[0m\u001b[1;33m\u001b[0m\u001b[1;33m\u001b[0m\u001b[1;33m\u001b[0m\u001b[0m\n\u001b[1;32m----> 5\u001b[1;33m \u001b[0mstart_time\u001b[0m \u001b[1;33m=\u001b[0m \u001b[0mtime\u001b[0m\u001b[1;33m.\u001b[0m\u001b[0mtime\u001b[0m\u001b[1;33m(\u001b[0m\u001b[1;33m)\u001b[0m\u001b[1;33m\u001b[0m\u001b[1;33m\u001b[0m\u001b[0m\n\u001b[0m\u001b[0;32m      6\u001b[0m \u001b[1;33m\u001b[0m\u001b[0m\n\u001b[0;32m      7\u001b[0m \u001b[1;31m#get tweet week older\u001b[0m\u001b[1;33m\u001b[0m\u001b[1;33m\u001b[0m\u001b[1;33m\u001b[0m\u001b[0m\n",
      "\u001b[1;31mNameError\u001b[0m: name 'time' is not defined"
     ]
    }
   ],
   "metadata": {}
  },
  {
   "cell_type": "code",
   "execution_count": 10,
   "source": [
    "csvFile.close()"
   ],
   "outputs": [],
   "metadata": {}
  },
  {
   "cell_type": "code",
   "execution_count": 12,
   "source": [
    "#end_time = time.time()"
   ],
   "outputs": [],
   "metadata": {}
  },
  {
   "cell_type": "code",
   "execution_count": 13,
   "source": [
    "#calculate duration of searching\n",
    "time_lapsed = format(end_time - start_time, \".4f\")\n",
    "print('\\033[4m' + 'time spent' + '\\033[0m' + ':', end =\" \")\n",
    "print(time_lapsed + ' seconds')\n",
    "print('\\n')\n",
    "print('\\033[4m' + 'total rows found' + '\\033[0m' + ':', end =\" \")\n",
    "print(total)"
   ],
   "outputs": [
    {
     "output_type": "stream",
     "name": "stdout",
     "text": [
      "\u001b[4mtime spent\u001b[0m: 318.1118 seconds\n",
      "\n",
      "\n",
      "\u001b[4mtotal rows found\u001b[0m: 3434\n"
     ]
    }
   ],
   "metadata": {}
  },
  {
   "cell_type": "code",
   "execution_count": null,
   "source": [],
   "outputs": [],
   "metadata": {}
  }
 ],
 "metadata": {
  "kernelspec": {
   "display_name": "Python 3 (ipykernel)",
   "language": "python",
   "name": "python3"
  },
  "language_info": {
   "codemirror_mode": {
    "name": "ipython",
    "version": 3
   },
   "file_extension": ".py",
   "mimetype": "text/x-python",
   "name": "python",
   "nbconvert_exporter": "python",
   "pygments_lexer": "ipython3",
   "version": "3.9.6"
  }
 },
 "nbformat": 4,
 "nbformat_minor": 5
}