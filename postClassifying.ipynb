{
 "cells": [
  {
   "cell_type": "code",
   "execution_count": 1,
   "source": [
    "import tweepy\r\n",
    "import csv\r\n",
    "import pandas as pd\r\n",
    "import os\r\n",
    "import json\r\n",
    "import datetime\r\n",
    "import time\r\n",
    "from collections import Counter\r\n",
    "import operator"
   ],
   "outputs": [],
   "metadata": {}
  },
  {
   "cell_type": "code",
   "execution_count": 2,
   "source": [
    "#credentials\r\n",
    "api_key = ''\r\n",
    "api_key_secret = ''"
   ],
   "outputs": [],
   "metadata": {}
  },
  {
   "cell_type": "code",
   "execution_count": 3,
   "source": [
    "#get access to tweeter api\r\n",
    "auth = tweepy.AppAuthHandler(api_key, api_key_secret)\r\n",
    "api = tweepy.API(auth)"
   ],
   "outputs": [],
   "metadata": {}
  },
  {
   "cell_type": "code",
   "execution_count": 4,
   "source": [
    "#get keywords from user\r\n",
    "#input must be: word1, word2, .....\r\n",
    "print('Enter keywords as folling: word1, word2, ....')\r\n",
    "userInput = input()\r\n",
    "userInput = userInput.replace(', ', ',').replace(' ,', ',')\r\n",
    "keywordsArray = userInput.split(',')\r\n",
    "#print(keywordsArray)"
   ],
   "outputs": [
    {
     "output_type": "stream",
     "name": "stdout",
     "text": [
      "Enter keywords as folling: word1, word2, ....\n"
     ]
    },
    {
     "output_type": "stream",
     "name": "stdout",
     "text": [
      " Jervi\n"
     ]
    }
   ],
   "metadata": {}
  },
  {
   "cell_type": "code",
   "execution_count": 5,
   "source": [
    "#extra values Helpers\r\n",
    "#get current date\r\n",
    "lastWeek = datetime.date.today() - datetime.timedelta(weeks=1)\r\n",
    "#for Benchmarking the executions\r\n",
    "total_found = 0"
   ],
   "outputs": [],
   "metadata": {}
  },
  {
   "cell_type": "code",
   "execution_count": 6,
   "source": [
    "#consume api and store result in array of 5 columns [key, created_at, text, username, trend]\r\n",
    "start_time = time.time()\r\n",
    "#storing api result in array\r\n",
    "tweetArray = []\r\n",
    "trendCollection = [] #collect all posts trends\r\n",
    "for key in keywordsArray:\r\n",
    "    for tweet in tweepy.Cursor(api.search, q=key).items():\r\n",
    "        isEmpty = len(tweet.entities['hashtags']) #check if post has hashtag\r\n",
    "        trend = tweet.entities['hashtags'][0]['text'] if isEmpty!=0 else ''    #get first tag only\r\n",
    "\r\n",
    "        created_at = tweet.created_at\r\n",
    "        text = tweet.text.encode('utf-8')\r\n",
    "        username = tweet.user.screen_name.encode('utf-8')\r\n",
    "\r\n",
    "        tweetArray.append([key, created_at, text, username, trend])\r\n",
    "        trendCollection.append(trend)\r\n",
    "\r\n",
    "        total_found = total_found + 1\r\n",
    "        \r\n",
    "#chrono ends\r\n",
    "end_time = time.time()"
   ],
   "outputs": [],
   "metadata": {}
  },
  {
   "cell_type": "code",
   "execution_count": 7,
   "source": [
    "#prepare Tags array helpers, \n",
    "tags = list(set(trendCollection)) #delete duplication\n",
    "tagWithOccurance = [] #array of tag with its occurence\n",
    "for tag in tags:\n",
    "    tagWithOccurance.append([tag, trendCollection.count(tag)])\n"
   ],
   "outputs": [],
   "metadata": {}
  },
  {
   "cell_type": "code",
   "execution_count": 8,
   "source": [
    "######## GLOBAL API RESULT ###########"
   ],
   "outputs": [],
   "metadata": {}
  },
  {
   "cell_type": "code",
   "execution_count": 9,
   "source": [
    "#array of 6 columns with a tagOccurence [key, created_at, text, username, trend, tagOccurence]\n",
    "finalTweet = []\n",
    "for item in tweetArray:\n",
    "    tagName = item[4] #get row tagname\n",
    "    tagIndex = tags.index(tagName) #get index of the tagName on tag[]\n",
    "    tagOccurence = tagWithOccurance[tagIndex][1] #get occurence in tagOccurence0-\n",
    "    finalTweet.append([item[0], item[1], item[2], item[3], item[4], tagOccurence])"
   ],
   "outputs": [],
   "metadata": {}
  },
  {
   "cell_type": "code",
   "execution_count": 10,
   "source": [
    "#final Tweet sorted by tag occurence\n",
    "finalTweet.sort(key=lambda x: x[5], reverse=True)"
   ],
   "outputs": [],
   "metadata": {}
  },
  {
   "cell_type": "code",
   "execution_count": 11,
   "source": [
    "######################################"
   ],
   "outputs": [],
   "metadata": {}
  },
  {
   "cell_type": "code",
   "execution_count": 12,
   "source": [
    "######## CREATE CSV ##################"
   ],
   "outputs": [],
   "metadata": {}
  },
  {
   "cell_type": "code",
   "execution_count": 13,
   "source": [
    "#final tweet not sorted default\n",
    "with open('defaultResults.csv', 'w', newline='', encoding='utf-8') as file:\n",
    "    filednames = [\"keyword\", \"created_at\", \"text\", \"username\", \"tag\", \"tag occurence\"]\n",
    "    writer = csv.DictWriter(file, fieldnames=filednames)\n",
    "    writer.writeheader()\n",
    "    writer = csv.writer(file, delimiter=',')\n",
    "    writer.writerows(finalTweet)\n",
    "    file.close()"
   ],
   "outputs": [],
   "metadata": {}
  },
  {
   "cell_type": "code",
   "execution_count": 14,
   "source": [
    "#final Tweet sorted by tag occurence\n",
    "with open('classifiedByOccurence.csv', 'w', newline='', encoding='utf-8') as file:\n",
    "    filednames = [\"keyword\", \"created_at\", \"text\", \"username\", \"tag\", \"tag occurence\"]\n",
    "    writer = csv.DictWriter(file, fieldnames=filednames)\n",
    "    writer.writeheader()\n",
    "    writer = csv.writer(file, delimiter=',')\n",
    "    writer.writerows(finalTweet)\n",
    "    file.close()   "
   ],
   "outputs": [],
   "metadata": {}
  },
  {
   "cell_type": "code",
   "execution_count": 15,
   "source": [
    "######################################"
   ],
   "outputs": [],
   "metadata": {}
  },
  {
   "cell_type": "code",
   "execution_count": 16,
   "source": [
    "######## TOP 10 TAGS ################"
   ],
   "outputs": [],
   "metadata": {}
  },
  {
   "cell_type": "code",
   "execution_count": 17,
   "source": [
    "#----- FUNCTION RESULT --------#"
   ],
   "outputs": [],
   "metadata": {}
  },
  {
   "cell_type": "code",
   "execution_count": 18,
   "source": [
    "#array to string\n",
    "def listToString(s):  \n",
    "    str1 = \"\"    \n",
    "    for ele in s:  \n",
    "        str1 += str(ele)    \n",
    "    return str1  "
   ],
   "outputs": [],
   "metadata": {}
  },
  {
   "cell_type": "code",
   "execution_count": 19,
   "source": [
    "#Days tweet\n",
    "def getTopDayTag(nbDays):\n",
    "    tagDayCollection_temp = [] #colloect tags of the day\n",
    "    \n",
    "    askedDay = datetime.date.today() - datetime.timedelta(days=nbDays)\n",
    "    dayStart = datetime.datetime(askedDay.year, askedDay.month, askedDay.day, 0)\n",
    "    dayEnd = datetime.datetime(askedDay.year, askedDay.month, askedDay.day, 23, 59, 59)\n",
    "    \n",
    "    for item in finalTweet:\n",
    "        if item[1] >= dayStart and item[1] <= dayEnd:\n",
    "            tagDayCollection_temp.append(item[4])\n",
    "    #today tags\n",
    "    topDayTag = sorted(set(tagDayCollection_temp), key = lambda ele: tagDayCollection_temp.count(ele), reverse=True) #sort by occurence descendant\n",
    "    if len(topDayTag) != 0:\n",
    "        topDayTag.remove('')  #to remove the no tag case\n",
    "    \n",
    "    return topDayTag"
   ],
   "outputs": [],
   "metadata": {}
  },
  {
   "cell_type": "code",
   "execution_count": 20,
   "source": [
    "#Hours Top Tag\n",
    "def getTopHourTag(nbHours):\n",
    "    tagHourCollection_temp = [] #colloect tags of this hour\n",
    "\n",
    "    askedHour = datetime.datetime.today() - datetime.timedelta(hours=nbHours)\n",
    "    hourStart = datetime.datetime(askedHour.year, askedHour.month, askedHour.day, askedHour.hour, 0)\n",
    "    hourEnd = datetime.datetime(askedHour.year, askedHour.month, askedHour.day, askedHour.hour, 59)\n",
    "\n",
    "    for item in finalTweet:\n",
    "        if item[1] >= hourStart and item[1] <= hourEnd:\n",
    "            tagHourCollection_temp.append(item[4])\n",
    "\n",
    "    #hour tags\n",
    "    topHourTag = sorted(set(tagHourCollection_temp), key = lambda ele: tagHourCollection_temp.count(ele), reverse=True) #sort by occurence descendant\n",
    "    if len(topHourTag) != 0:\n",
    "        topHourTag.remove('')  #to remove the no tag case\n",
    "\n",
    "    return topHourTag"
   ],
   "outputs": [],
   "metadata": {}
  },
  {
   "cell_type": "code",
   "execution_count": 21,
   "source": [
    "#----- DISPLAY RESULT --------#"
   ],
   "outputs": [],
   "metadata": {}
  },
  {
   "cell_type": "code",
   "execution_count": 28,
   "source": [
    "#General Details\n",
    "time_lapsed = format(end_time - start_time, \".4f\")\n",
    "print('\\033[4m' + 'Total time spent to get results' + '\\033[0m' + ':', end =\" \")\n",
    "print(time_lapsed + ' seconds')\n",
    "print('\\033[4m' + 'Total rows found from api' + '\\033[0m' + ':', end =\" \")\n",
    "print(total_found, end=\" \")\n",
    "print('rows')"
   ],
   "outputs": [
    {
     "output_type": "stream",
     "name": "stdout",
     "text": [
      "\u001b[4mTotal time spent to get results\u001b[0m: 8.7486 seconds\n",
      "\u001b[4mTotal rows found from api\u001b[0m: 128 rows\n"
     ]
    }
   ],
   "metadata": {}
  },
  {
   "cell_type": "code",
   "execution_count": 43,
   "source": [
    "#Top10 tag week tag\n",
    "print('Top 10 Hashtags of the week')\n",
    "topWeekTag = sorted(set(trendCollection), key = lambda ele: trendCollection.count(ele), reverse=True) #sort by occurence descendant\n",
    "topWeekTag.remove('')  #to remove the no tag case\n",
    "print(str(topWeekTag[:10]).strip('[]'))\n"
   ],
   "outputs": [
    {
     "output_type": "stream",
     "name": "stdout",
     "text": [
      "Top 10 Hashtags of the week\n",
      "'twitch', 'URGENTE', 'PETRI', 'Discord', 'いいねした人の画像欄覗いて素敵絵を私の絵柄で描いてもいいですか'\n"
     ]
    }
   ],
   "metadata": {}
  },
  {
   "cell_type": "code",
   "execution_count": 30,
   "source": [
    "#Top10 tag days of the week tag\n",
    "print('Top 10 Hashtags for each day of the week')\n",
    "for i in range(7):\n",
    "    askedDay = datetime.date.today() - datetime.timedelta(days=i)\n",
    "    print(askedDay, end=\" \")\n",
    "    print(':', end=\" \")\n",
    "    result = listToString(getTopDayTag(i)[:10])\n",
    "    print(result)"
   ],
   "outputs": [
    {
     "output_type": "stream",
     "name": "stdout",
     "text": [
      "Top 10 Hashtags for each day of the week\n",
      "2021-07-20 : PETRI\n",
      "2021-07-19 : \n",
      "2021-07-18 : \n",
      "2021-07-17 : \n",
      "2021-07-16 : URGENTE\n",
      "2021-07-15 : twitch\n",
      "2021-07-14 : Discord\n"
     ]
    }
   ],
   "metadata": {}
  },
  {
   "cell_type": "code",
   "execution_count": 31,
   "source": [
    "#Top10 tags per hours of tag\n",
    "print('Top 10 Hashtags for each hour of today')\n",
    "print(datetime.date.today())\n",
    "for i in range(24):\n",
    "    askedHour = datetime.datetime.today() - datetime.timedelta(hours=i)\n",
    "    print(askedHour.hour, end=\" \")\n",
    "    print('\\t:', end=\" \")\n",
    "    result = listToString(getTopHourTag(i)[:10])\n",
    "    print(result)"
   ],
   "outputs": [
    {
     "output_type": "stream",
     "name": "stdout",
     "text": [
      "Top 10 Hashtags for each hour of today\n",
      "2021-07-20\n",
      "12 \t: \n",
      "11 \t: \n",
      "10 \t: \n",
      "9 \t: \n",
      "8 \t: \n",
      "7 \t: \n",
      "6 \t: PETRI\n",
      "5 \t: \n",
      "4 \t: \n",
      "3 \t: \n",
      "2 \t: \n",
      "1 \t: \n",
      "0 \t: \n",
      "23 \t: \n",
      "22 \t: \n",
      "21 \t: \n",
      "20 \t: \n",
      "19 \t: \n",
      "18 \t: \n",
      "17 \t: \n",
      "16 \t: \n",
      "15 \t: \n",
      "14 \t: \n",
      "13 \t: \n"
     ]
    }
   ],
   "metadata": {}
  },
  {
   "cell_type": "code",
   "execution_count": null,
   "source": [],
   "outputs": [],
   "metadata": {}
  }
 ],
 "metadata": {
  "kernelspec": {
   "display_name": "Python 3 (ipykernel)",
   "language": "python",
   "name": "python3"
  },
  "language_info": {
   "codemirror_mode": {
    "name": "ipython",
    "version": 3
   },
   "file_extension": ".py",
   "mimetype": "text/x-python",
   "name": "python",
   "nbconvert_exporter": "python",
   "pygments_lexer": "ipython3",
   "version": "3.9.6"
  }
 },
 "nbformat": 4,
 "nbformat_minor": 5
}